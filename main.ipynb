{
 "cells": [
  {
   "cell_type": "code",
   "execution_count": null,
   "id": "afbf5e5b",
   "metadata": {},
   "outputs": [],
   "source": [
    "# 🚢 Titanic Survival Analysis with Python & Pandas(No ML)\n",
    "\n",
    "## 📌 Objective\n",
    "#Explore the Titanic dataset to find what factors influenced passenger survival using only pandas\n",
    "\n",
    "\n",
    "## 🎯 Questions I Aimed to Answer:\n",
    "# 1 - What percentage of passengers survived?\n",
    "# 2 - Was survival related to gender?\n",
    "# 3 - Did passenger class affect survival?\n",
    "# 4 - Was age a factor in survival?\n",
    "# 5 - Effect of family size on survival\n"
   ]
  },
  {
   "cell_type": "code",
   "execution_count": null,
   "id": "53d874e5",
   "metadata": {},
   "outputs": [
    {
     "data": {
      "text/html": [
       "<div>\n",
       "<style scoped>\n",
       "    .dataframe tbody tr th:only-of-type {\n",
       "        vertical-align: middle;\n",
       "    }\n",
       "\n",
       "    .dataframe tbody tr th {\n",
       "        vertical-align: top;\n",
       "    }\n",
       "\n",
       "    .dataframe thead th {\n",
       "        text-align: right;\n",
       "    }\n",
       "</style>\n",
       "<table border=\"1\" class=\"dataframe\">\n",
       "  <thead>\n",
       "    <tr style=\"text-align: right;\">\n",
       "      <th></th>\n",
       "      <th>PassengerId</th>\n",
       "      <th>Survived</th>\n",
       "      <th>Pclass</th>\n",
       "      <th>Name</th>\n",
       "      <th>Sex</th>\n",
       "      <th>Age</th>\n",
       "      <th>SibSp</th>\n",
       "      <th>Parch</th>\n",
       "      <th>Ticket</th>\n",
       "      <th>Fare</th>\n",
       "      <th>Cabin</th>\n",
       "      <th>Embarked</th>\n",
       "    </tr>\n",
       "  </thead>\n",
       "  <tbody>\n",
       "    <tr>\n",
       "      <th>0</th>\n",
       "      <td>1</td>\n",
       "      <td>0</td>\n",
       "      <td>3</td>\n",
       "      <td>Braund, Mr. Owen Harris</td>\n",
       "      <td>male</td>\n",
       "      <td>22.0</td>\n",
       "      <td>1</td>\n",
       "      <td>0</td>\n",
       "      <td>A/5 21171</td>\n",
       "      <td>7.2500</td>\n",
       "      <td>NaN</td>\n",
       "      <td>S</td>\n",
       "    </tr>\n",
       "    <tr>\n",
       "      <th>1</th>\n",
       "      <td>2</td>\n",
       "      <td>1</td>\n",
       "      <td>1</td>\n",
       "      <td>Cumings, Mrs. John Bradley (Florence Briggs Th...</td>\n",
       "      <td>female</td>\n",
       "      <td>38.0</td>\n",
       "      <td>1</td>\n",
       "      <td>0</td>\n",
       "      <td>PC 17599</td>\n",
       "      <td>71.2833</td>\n",
       "      <td>C85</td>\n",
       "      <td>C</td>\n",
       "    </tr>\n",
       "    <tr>\n",
       "      <th>2</th>\n",
       "      <td>3</td>\n",
       "      <td>1</td>\n",
       "      <td>3</td>\n",
       "      <td>Heikkinen, Miss. Laina</td>\n",
       "      <td>female</td>\n",
       "      <td>26.0</td>\n",
       "      <td>0</td>\n",
       "      <td>0</td>\n",
       "      <td>STON/O2. 3101282</td>\n",
       "      <td>7.9250</td>\n",
       "      <td>NaN</td>\n",
       "      <td>S</td>\n",
       "    </tr>\n",
       "    <tr>\n",
       "      <th>3</th>\n",
       "      <td>4</td>\n",
       "      <td>1</td>\n",
       "      <td>1</td>\n",
       "      <td>Futrelle, Mrs. Jacques Heath (Lily May Peel)</td>\n",
       "      <td>female</td>\n",
       "      <td>35.0</td>\n",
       "      <td>1</td>\n",
       "      <td>0</td>\n",
       "      <td>113803</td>\n",
       "      <td>53.1000</td>\n",
       "      <td>C123</td>\n",
       "      <td>S</td>\n",
       "    </tr>\n",
       "    <tr>\n",
       "      <th>4</th>\n",
       "      <td>5</td>\n",
       "      <td>0</td>\n",
       "      <td>3</td>\n",
       "      <td>Allen, Mr. William Henry</td>\n",
       "      <td>male</td>\n",
       "      <td>35.0</td>\n",
       "      <td>0</td>\n",
       "      <td>0</td>\n",
       "      <td>373450</td>\n",
       "      <td>8.0500</td>\n",
       "      <td>NaN</td>\n",
       "      <td>S</td>\n",
       "    </tr>\n",
       "  </tbody>\n",
       "</table>\n",
       "</div>"
      ],
      "text/plain": [
       "   PassengerId  Survived  Pclass  \\\n",
       "0            1         0       3   \n",
       "1            2         1       1   \n",
       "2            3         1       3   \n",
       "3            4         1       1   \n",
       "4            5         0       3   \n",
       "\n",
       "                                                Name     Sex   Age  SibSp  \\\n",
       "0                            Braund, Mr. Owen Harris    male  22.0      1   \n",
       "1  Cumings, Mrs. John Bradley (Florence Briggs Th...  female  38.0      1   \n",
       "2                             Heikkinen, Miss. Laina  female  26.0      0   \n",
       "3       Futrelle, Mrs. Jacques Heath (Lily May Peel)  female  35.0      1   \n",
       "4                           Allen, Mr. William Henry    male  35.0      0   \n",
       "\n",
       "   Parch            Ticket     Fare Cabin Embarked  \n",
       "0      0         A/5 21171   7.2500   NaN        S  \n",
       "1      0          PC 17599  71.2833   C85        C  \n",
       "2      0  STON/O2. 3101282   7.9250   NaN        S  \n",
       "3      0            113803  53.1000  C123        S  \n",
       "4      0            373450   8.0500   NaN        S  "
      ]
     },
     "execution_count": 14,
     "metadata": {},
     "output_type": "execute_result"
    }
   ],
   "source": [
    "import pandas as pd\n",
    "df = pd.read_csv(\"C:/Users/ujan2/Downloads/train.csv\")\n",
    "df.head(5)\n",
    "df.info() # for getting no of total passengers and other data"
   ]
  },
  {
   "cell_type": "code",
   "execution_count": null,
   "id": "e165c4e1",
   "metadata": {},
   "outputs": [
    {
     "name": "stdout",
     "output_type": "stream",
     "text": [
      "Only 38.38383838383838 % people survived\n"
     ]
    }
   ],
   "source": [
    "# 1 \n",
    "totalpeople = 891 ##total no of people on the ship in this sample\n",
    "survivors = df[df['Survived']==1].shape[0]\n",
    "percent = (survivors/totalpeople)*100\n",
    "print(f\"Only {percent} % people survived\")"
   ]
  },
  {
   "cell_type": "code",
   "execution_count": null,
   "id": "6edb3a79",
   "metadata": {},
   "outputs": [
    {
     "name": "stdout",
     "output_type": "stream",
     "text": [
      "The data says that 18.890814558058924% of males survived and 74.20382165605095& of female passengers survived\n"
     ]
    }
   ],
   "source": [
    " # 2\n",
    "totalmale =  df[df['Sex']==\"male\"].shape[0]\n",
    "male_survivors = df[(df['Sex']==\"male\")&(df['Survived']==1)].shape[0]\n",
    "malepercent = (male_survivors/totalmale)*100 # % of male that survived\n",
    "\n",
    "totalfemale = df[df['Sex']==\"female\"].shape[0]\n",
    "female_survivors = df[(df['Sex']==\"female\")&(df['Survived']==1)].shape[0]\n",
    "femalepercent = (female_survivors/totalfemale)*100 # % of female that survived\n",
    "print(f\"The data says that {malepercent}% of males survived \", end=\"\")\n",
    "print(f\"and {femalepercent}& of female passengers survived\")\n",
    "print(\"which clearly shows that survival related to gender\")"
   ]
  },
  {
   "cell_type": "code",
   "execution_count": 24,
   "id": "16c474e6",
   "metadata": {},
   "outputs": [
    {
     "name": "stdout",
     "output_type": "stream",
     "text": [
      "62.96296296296296% of people from 1st class Survived\n",
      "47.28260869565217% of people from 2nd class Survived\n",
      "24.236252545824847% of people from 3rd class Survived\n",
      "YES Passenger class affected survival rates by big margins\n"
     ]
    }
   ],
   "source": [
    "#3\n",
    "totfirstclass = df[df['Pclass']==1].shape[0]\n",
    "totsecondclass = df[df['Pclass']==2].shape[0]\n",
    "totthirdclass = df[df['Pclass']==3].shape[0]\n",
    "\n",
    "first = df[(df['Survived']==1) & (df['Pclass']==1)].shape[0]\n",
    "second = df[(df['Survived']==1) & (df['Pclass']==2)].shape[0]\n",
    "third = df[(df['Survived']==1) & (df['Pclass']==3)].shape[0]\n",
    "\n",
    "firstpercent = (first/totfirstclass)*100\n",
    "secpercent = (second/totsecondclass)*100\n",
    "thirdpercent = (third/totthirdclass)*100\n",
    "print(f\"{firstpercent}% of people from 1st class Survived\")\n",
    "print(f\"{secpercent}% of people from 2nd class Survived\")\n",
    "print(f\"{thirdpercent}% of people from 3rd class Survived\")\n",
    "print(\"YES Passenger class affected survival rates by big margins\")"
   ]
  },
  {
   "cell_type": "code",
   "execution_count": 25,
   "id": "97d1ca7b",
   "metadata": {},
   "outputs": [
    {
     "name": "stdout",
     "output_type": "stream",
     "text": [
      "Average age of people who survived: 28.343689655172415\n",
      "Average age of people who didnt survive: 30.62617924528302\n",
      " This indicates that younger passengers may have had a marginally higher chance of survival on the Titanic.\n"
     ]
    }
   ],
   "source": [
    "# 4 \n",
    "meansurvivor = df[df['Survived']==1].Age.mean() ## mean age of people who survived\n",
    "meandead = df[df['Survived']==0].Age.mean() ## mean  age of people who died\n",
    "print(\"Average age of people who survived:\",meansurvivor)\n",
    "print(\"Average age of people who didnt survive:\",meandead)\n",
    "print(\" This indicates that younger passengers may have had a marginally higher chance of survival on the Titanic.\")"
   ]
  },
  {
   "cell_type": "code",
   "execution_count": 26,
   "id": "cd9f54be",
   "metadata": {},
   "outputs": [
    {
     "name": "stdout",
     "output_type": "stream",
     "text": [
      "People involved in casualties had average family size of  0.8834244080145719\n",
      "People who survived had average family size of  0.9385964912280702\n",
      "There doesn't appear to be a strong correlation between family size and survival in this dataset based on average values alone.\n"
     ]
    }
   ],
   "source": [
    "#5\n",
    "df['FamilySize'] = df['SibSp'] + df['Parch']\n",
    "df.head()\n",
    "# avg family size of people who died\n",
    "dedfamily = df[df['Survived']==0].FamilySize.mean()\n",
    "# avg family size of people who didnt die\n",
    "nondedfamily =df[df['Survived']==1].FamilySize.mean()\n",
    "print(\"People involved in casualties had average family size of \",dedfamily)\n",
    "print(\"People who survived had average family size of \",nondedfamily)\n",
    "print(\"There doesn't appear to be a strong correlation between family size and survival in this dataset based on average values alone.\")"
   ]
  }
 ],
 "metadata": {
  "kernelspec": {
   "display_name": "Python 3",
   "language": "python",
   "name": "python3"
  },
  "language_info": {
   "codemirror_mode": {
    "name": "ipython",
    "version": 3
   },
   "file_extension": ".py",
   "mimetype": "text/x-python",
   "name": "python",
   "nbconvert_exporter": "python",
   "pygments_lexer": "ipython3",
   "version": "3.13.3"
  }
 },
 "nbformat": 4,
 "nbformat_minor": 5
}
